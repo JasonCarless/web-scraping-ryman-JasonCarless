{
 "cells": [
  {
   "cell_type": "code",
   "execution_count": 52,
   "id": "111d53c1",
   "metadata": {},
   "outputs": [],
   "source": [
    "import requests\n",
    "import pandas as pd"
   ]
  },
  {
   "cell_type": "code",
   "execution_count": 3,
   "id": "2be178cb",
   "metadata": {},
   "outputs": [],
   "source": [
    "URL = 'https://ryman.com/events/'\n",
    "response = requests.get(URL)"
   ]
  },
  {
   "cell_type": "code",
   "execution_count": 4,
   "id": "3d1dba97",
   "metadata": {},
   "outputs": [
    {
     "data": {
      "text/plain": [
       "requests.models.Response"
      ]
     },
     "execution_count": 4,
     "metadata": {},
     "output_type": "execute_result"
    }
   ],
   "source": [
    "type(response)"
   ]
  },
  {
   "cell_type": "code",
   "execution_count": 5,
   "id": "d1fea5c5",
   "metadata": {},
   "outputs": [
    {
     "data": {
      "text/plain": [
       "200"
      ]
     },
     "execution_count": 5,
     "metadata": {},
     "output_type": "execute_result"
    }
   ],
   "source": [
    "response.status_code"
   ]
  },
  {
   "cell_type": "code",
   "execution_count": 6,
   "id": "4d2e84e1",
   "metadata": {},
   "outputs": [],
   "source": [
    "from bs4 import BeautifulSoup as BS"
   ]
  },
  {
   "cell_type": "code",
   "execution_count": 7,
   "id": "7e963129",
   "metadata": {},
   "outputs": [],
   "source": [
    "soup = BS(response.text)"
   ]
  },
  {
   "cell_type": "code",
   "execution_count": 42,
   "id": "adb0d696",
   "metadata": {},
   "outputs": [
    {
     "data": {
      "text/plain": [
       "<title>Upcoming Events - Ryman Auditorium</title>"
      ]
     },
     "execution_count": 42,
     "metadata": {},
     "output_type": "execute_result"
    }
   ],
   "source": [
    "soup.find('title')"
   ]
  },
  {
   "cell_type": "code",
   "execution_count": 39,
   "id": "6a2232e9",
   "metadata": {
    "scrolled": true
   },
   "outputs": [],
   "source": [
    "artists = soup.findAll('a',attrs={'class' : 'tribe-event-url' })"
   ]
  },
  {
   "cell_type": "code",
   "execution_count": 40,
   "id": "efee7d80",
   "metadata": {},
   "outputs": [],
   "source": [
    "headline = [x.get('title') for x in artists]"
   ]
  },
  {
   "cell_type": "code",
   "execution_count": 41,
   "id": "5cf20d93",
   "metadata": {},
   "outputs": [
    {
     "data": {
      "text/plain": [
       "['Mt. Joy',\n",
       " 'Ryman Sidewalk Sessions',\n",
       " 'Marcus Mumford',\n",
       " 'Puscifer',\n",
       " 'Gipsy Kings featuring Nicolas Reyes',\n",
       " 'Ryman Sidewalk Sessions',\n",
       " 'Cole Swindell',\n",
       " 'Ryman Sidewalk Sessions',\n",
       " 'Cole Swindell',\n",
       " 'The Lone Bellow',\n",
       " 'We The Kingdom',\n",
       " 'The Revivalists',\n",
       " 'The Revivalists',\n",
       " 'Dayglow',\n",
       " 'Bono: Stories of Surrender',\n",
       " 'Chris Renzema',\n",
       " 'Craig Morgan',\n",
       " 'Louder with Crowder',\n",
       " 'Louder with Crowder',\n",
       " 'Disney Junior Live On Tour']"
      ]
     },
     "execution_count": 41,
     "metadata": {},
     "output_type": "execute_result"
    }
   ],
   "source": [
    "headline"
   ]
  },
  {
   "cell_type": "code",
   "execution_count": 66,
   "id": "94329975",
   "metadata": {},
   "outputs": [
    {
     "data": {
      "text/plain": [
       "<time datetime=\"2022-10-29 08:00:00 CDT\">Saturday, October 29, 2022 at 8:00 PM CDT</time>"
      ]
     },
     "execution_count": 66,
     "metadata": {},
     "output_type": "execute_result"
    }
   ],
   "source": [
    "soup.find('time')"
   ]
  },
  {
   "cell_type": "code",
   "execution_count": 67,
   "id": "93179483",
   "metadata": {},
   "outputs": [],
   "source": [
    "times = soup.findAll('time')"
   ]
  },
  {
   "cell_type": "code",
   "execution_count": 45,
   "id": "f52a588f",
   "metadata": {},
   "outputs": [
    {
     "data": {
      "text/plain": [
       "[<time datetime=\"2022-10-29 08:00:00 CDT\">Saturday, October 29, 2022 at 8:00 PM CDT</time>,\n",
       " <time datetime=\"2022-10-30 06:00:00 CDT\">Sunday, October 30, 2022 at 6:00 PM CDT</time>,\n",
       " <time datetime=\"2022-10-30 08:00:00 CDT\">Sunday, October 30, 2022 at 8:00 PM CDT</time>,\n",
       " <time datetime=\"2022-10-31 07:30:00 CDT\">Monday, October 31, 2022 at 7:30 PM CDT</time>,\n",
       " <time datetime=\"2022-11-01 07:30:00 CDT\">Tuesday, November 1, 2022 at 7:30 PM CDT</time>,\n",
       " <time datetime=\"2022-11-02 05:30:00 CDT\">Wednesday, November 2, 2022 at 5:30 PM CDT</time>,\n",
       " <time datetime=\"2022-11-02 07:30:00 CDT\">Wednesday, November 2, 2022 at 7:30 PM CDT</time>,\n",
       " <time datetime=\"2022-11-03 05:30:00 CDT\">Thursday, November 3, 2022 at 5:30 PM CDT</time>,\n",
       " <time datetime=\"2022-11-03 07:30:00 CDT\">Thursday, November 3, 2022 at 7:30 PM CDT</time>,\n",
       " <time datetime=\"2022-11-04 08:00:00 CDT\">Friday, November 4, 2022 at 8:00 PM CDT</time>,\n",
       " <time datetime=\"2022-11-05 07:00:00 CDT\">Saturday, November 5, 2022 at 7:00 PM CDT</time>,\n",
       " <time datetime=\"2022-11-06 07:30:00 CST\">Sunday, November 6, 2022 at 7:30 PM CST</time>,\n",
       " <time datetime=\"2022-11-07 07:30:00 CST\">Monday, November 7, 2022 at 7:30 PM CST</time>,\n",
       " <time datetime=\"2022-11-08 07:30:00 CST\">Tuesday, November 8, 2022 at 7:30 PM CST</time>,\n",
       " <time datetime=\"2022-11-09 08:00:00 CST\">Wednesday, November 9, 2022 at 8:00 PM CST</time>,\n",
       " <time datetime=\"2022-11-10 07:30:00 CST\">Thursday, November 10, 2022 at 7:30 PM CST</time>,\n",
       " <time datetime=\"2022-11-11 08:00:00 CST\">Friday, November 11, 2022 at 8:00 PM CST</time>,\n",
       " <time datetime=\"2022-11-12 07:00:00 CST\">Saturday, November 12, 2022 at 7:00 PM CST</time>,\n",
       " <time datetime=\"2022-11-12 09:30:00 CST\">Saturday, November 12, 2022 at 9:30 PM CST</time>,\n",
       " <time datetime=\"2022-11-13 04:00:00 CST\">Sunday, November 13, 2022 at 4:00 PM CST</time>]"
      ]
     },
     "execution_count": 45,
     "metadata": {},
     "output_type": "execute_result"
    }
   ],
   "source": [
    "times"
   ]
  },
  {
   "cell_type": "code",
   "execution_count": 50,
   "id": "8000395e",
   "metadata": {},
   "outputs": [],
   "source": [
    "times = [x.text for x in times]"
   ]
  },
  {
   "cell_type": "code",
   "execution_count": 51,
   "id": "9c14c4fc",
   "metadata": {},
   "outputs": [
    {
     "data": {
      "text/plain": [
       "['Saturday, October 29, 2022 at 8:00 PM CDT',\n",
       " 'Sunday, October 30, 2022 at 6:00 PM CDT',\n",
       " 'Sunday, October 30, 2022 at 8:00 PM CDT',\n",
       " 'Monday, October 31, 2022 at 7:30 PM CDT',\n",
       " 'Tuesday, November 1, 2022 at 7:30 PM CDT',\n",
       " 'Wednesday, November 2, 2022 at 5:30 PM CDT',\n",
       " 'Wednesday, November 2, 2022 at 7:30 PM CDT',\n",
       " 'Thursday, November 3, 2022 at 5:30 PM CDT',\n",
       " 'Thursday, November 3, 2022 at 7:30 PM CDT',\n",
       " 'Friday, November 4, 2022 at 8:00 PM CDT',\n",
       " 'Saturday, November 5, 2022 at 7:00 PM CDT',\n",
       " 'Sunday, November 6, 2022 at 7:30 PM CST',\n",
       " 'Monday, November 7, 2022 at 7:30 PM CST',\n",
       " 'Tuesday, November 8, 2022 at 7:30 PM CST',\n",
       " 'Wednesday, November 9, 2022 at 8:00 PM CST',\n",
       " 'Thursday, November 10, 2022 at 7:30 PM CST',\n",
       " 'Friday, November 11, 2022 at 8:00 PM CST',\n",
       " 'Saturday, November 12, 2022 at 7:00 PM CST',\n",
       " 'Saturday, November 12, 2022 at 9:30 PM CST',\n",
       " 'Sunday, November 13, 2022 at 4:00 PM CST']"
      ]
     },
     "execution_count": 51,
     "metadata": {},
     "output_type": "execute_result"
    }
   ],
   "source": [
    "times"
   ]
  },
  {
   "cell_type": "code",
   "execution_count": 55,
   "id": "fc47e2aa",
   "metadata": {},
   "outputs": [
    {
     "data": {
      "text/html": [
       "<div>\n",
       "<style scoped>\n",
       "    .dataframe tbody tr th:only-of-type {\n",
       "        vertical-align: middle;\n",
       "    }\n",
       "\n",
       "    .dataframe tbody tr th {\n",
       "        vertical-align: top;\n",
       "    }\n",
       "\n",
       "    .dataframe thead th {\n",
       "        text-align: right;\n",
       "    }\n",
       "</style>\n",
       "<table border=\"1\" class=\"dataframe\">\n",
       "  <thead>\n",
       "    <tr style=\"text-align: right;\">\n",
       "      <th></th>\n",
       "      <th>event time</th>\n",
       "    </tr>\n",
       "  </thead>\n",
       "  <tbody>\n",
       "    <tr>\n",
       "      <th>0</th>\n",
       "      <td>Saturday, October 29, 2022 at 8:00 PM CDT</td>\n",
       "    </tr>\n",
       "    <tr>\n",
       "      <th>1</th>\n",
       "      <td>Sunday, October 30, 2022 at 6:00 PM CDT</td>\n",
       "    </tr>\n",
       "    <tr>\n",
       "      <th>2</th>\n",
       "      <td>Sunday, October 30, 2022 at 8:00 PM CDT</td>\n",
       "    </tr>\n",
       "    <tr>\n",
       "      <th>3</th>\n",
       "      <td>Monday, October 31, 2022 at 7:30 PM CDT</td>\n",
       "    </tr>\n",
       "    <tr>\n",
       "      <th>4</th>\n",
       "      <td>Tuesday, November 1, 2022 at 7:30 PM CDT</td>\n",
       "    </tr>\n",
       "    <tr>\n",
       "      <th>5</th>\n",
       "      <td>Wednesday, November 2, 2022 at 5:30 PM CDT</td>\n",
       "    </tr>\n",
       "    <tr>\n",
       "      <th>6</th>\n",
       "      <td>Wednesday, November 2, 2022 at 7:30 PM CDT</td>\n",
       "    </tr>\n",
       "    <tr>\n",
       "      <th>7</th>\n",
       "      <td>Thursday, November 3, 2022 at 5:30 PM CDT</td>\n",
       "    </tr>\n",
       "    <tr>\n",
       "      <th>8</th>\n",
       "      <td>Thursday, November 3, 2022 at 7:30 PM CDT</td>\n",
       "    </tr>\n",
       "    <tr>\n",
       "      <th>9</th>\n",
       "      <td>Friday, November 4, 2022 at 8:00 PM CDT</td>\n",
       "    </tr>\n",
       "    <tr>\n",
       "      <th>10</th>\n",
       "      <td>Saturday, November 5, 2022 at 7:00 PM CDT</td>\n",
       "    </tr>\n",
       "    <tr>\n",
       "      <th>11</th>\n",
       "      <td>Sunday, November 6, 2022 at 7:30 PM CST</td>\n",
       "    </tr>\n",
       "    <tr>\n",
       "      <th>12</th>\n",
       "      <td>Monday, November 7, 2022 at 7:30 PM CST</td>\n",
       "    </tr>\n",
       "    <tr>\n",
       "      <th>13</th>\n",
       "      <td>Tuesday, November 8, 2022 at 7:30 PM CST</td>\n",
       "    </tr>\n",
       "    <tr>\n",
       "      <th>14</th>\n",
       "      <td>Wednesday, November 9, 2022 at 8:00 PM CST</td>\n",
       "    </tr>\n",
       "    <tr>\n",
       "      <th>15</th>\n",
       "      <td>Thursday, November 10, 2022 at 7:30 PM CST</td>\n",
       "    </tr>\n",
       "    <tr>\n",
       "      <th>16</th>\n",
       "      <td>Friday, November 11, 2022 at 8:00 PM CST</td>\n",
       "    </tr>\n",
       "    <tr>\n",
       "      <th>17</th>\n",
       "      <td>Saturday, November 12, 2022 at 7:00 PM CST</td>\n",
       "    </tr>\n",
       "    <tr>\n",
       "      <th>18</th>\n",
       "      <td>Saturday, November 12, 2022 at 9:30 PM CST</td>\n",
       "    </tr>\n",
       "    <tr>\n",
       "      <th>19</th>\n",
       "      <td>Sunday, November 13, 2022 at 4:00 PM CST</td>\n",
       "    </tr>\n",
       "  </tbody>\n",
       "</table>\n",
       "</div>"
      ],
      "text/plain": [
       "                                    event time\n",
       "0    Saturday, October 29, 2022 at 8:00 PM CDT\n",
       "1      Sunday, October 30, 2022 at 6:00 PM CDT\n",
       "2      Sunday, October 30, 2022 at 8:00 PM CDT\n",
       "3      Monday, October 31, 2022 at 7:30 PM CDT\n",
       "4     Tuesday, November 1, 2022 at 7:30 PM CDT\n",
       "5   Wednesday, November 2, 2022 at 5:30 PM CDT\n",
       "6   Wednesday, November 2, 2022 at 7:30 PM CDT\n",
       "7    Thursday, November 3, 2022 at 5:30 PM CDT\n",
       "8    Thursday, November 3, 2022 at 7:30 PM CDT\n",
       "9      Friday, November 4, 2022 at 8:00 PM CDT\n",
       "10   Saturday, November 5, 2022 at 7:00 PM CDT\n",
       "11     Sunday, November 6, 2022 at 7:30 PM CST\n",
       "12     Monday, November 7, 2022 at 7:30 PM CST\n",
       "13    Tuesday, November 8, 2022 at 7:30 PM CST\n",
       "14  Wednesday, November 9, 2022 at 8:00 PM CST\n",
       "15  Thursday, November 10, 2022 at 7:30 PM CST\n",
       "16    Friday, November 11, 2022 at 8:00 PM CST\n",
       "17  Saturday, November 12, 2022 at 7:00 PM CST\n",
       "18  Saturday, November 12, 2022 at 9:30 PM CST\n",
       "19    Sunday, November 13, 2022 at 4:00 PM CST"
      ]
     },
     "execution_count": 55,
     "metadata": {},
     "output_type": "execute_result"
    }
   ],
   "source": [
    "event_times = pd.DataFrame({'event time': times})\n",
    "event_times"
   ]
  },
  {
   "cell_type": "code",
   "execution_count": 57,
   "id": "9d7ade0c",
   "metadata": {},
   "outputs": [
    {
     "data": {
      "text/html": [
       "<div>\n",
       "<style scoped>\n",
       "    .dataframe tbody tr th:only-of-type {\n",
       "        vertical-align: middle;\n",
       "    }\n",
       "\n",
       "    .dataframe tbody tr th {\n",
       "        vertical-align: top;\n",
       "    }\n",
       "\n",
       "    .dataframe thead th {\n",
       "        text-align: right;\n",
       "    }\n",
       "</style>\n",
       "<table border=\"1\" class=\"dataframe\">\n",
       "  <thead>\n",
       "    <tr style=\"text-align: right;\">\n",
       "      <th></th>\n",
       "      <th>headliner</th>\n",
       "    </tr>\n",
       "  </thead>\n",
       "  <tbody>\n",
       "    <tr>\n",
       "      <th>0</th>\n",
       "      <td>Mt. Joy</td>\n",
       "    </tr>\n",
       "    <tr>\n",
       "      <th>1</th>\n",
       "      <td>Ryman Sidewalk Sessions</td>\n",
       "    </tr>\n",
       "    <tr>\n",
       "      <th>2</th>\n",
       "      <td>Marcus Mumford</td>\n",
       "    </tr>\n",
       "    <tr>\n",
       "      <th>3</th>\n",
       "      <td>Puscifer</td>\n",
       "    </tr>\n",
       "    <tr>\n",
       "      <th>4</th>\n",
       "      <td>Gipsy Kings featuring Nicolas Reyes</td>\n",
       "    </tr>\n",
       "    <tr>\n",
       "      <th>5</th>\n",
       "      <td>Ryman Sidewalk Sessions</td>\n",
       "    </tr>\n",
       "    <tr>\n",
       "      <th>6</th>\n",
       "      <td>Cole Swindell</td>\n",
       "    </tr>\n",
       "    <tr>\n",
       "      <th>7</th>\n",
       "      <td>Ryman Sidewalk Sessions</td>\n",
       "    </tr>\n",
       "    <tr>\n",
       "      <th>8</th>\n",
       "      <td>Cole Swindell</td>\n",
       "    </tr>\n",
       "    <tr>\n",
       "      <th>9</th>\n",
       "      <td>The Lone Bellow</td>\n",
       "    </tr>\n",
       "    <tr>\n",
       "      <th>10</th>\n",
       "      <td>We The Kingdom</td>\n",
       "    </tr>\n",
       "    <tr>\n",
       "      <th>11</th>\n",
       "      <td>The Revivalists</td>\n",
       "    </tr>\n",
       "    <tr>\n",
       "      <th>12</th>\n",
       "      <td>The Revivalists</td>\n",
       "    </tr>\n",
       "    <tr>\n",
       "      <th>13</th>\n",
       "      <td>Dayglow</td>\n",
       "    </tr>\n",
       "    <tr>\n",
       "      <th>14</th>\n",
       "      <td>Bono: Stories of Surrender</td>\n",
       "    </tr>\n",
       "    <tr>\n",
       "      <th>15</th>\n",
       "      <td>Chris Renzema</td>\n",
       "    </tr>\n",
       "    <tr>\n",
       "      <th>16</th>\n",
       "      <td>Craig Morgan</td>\n",
       "    </tr>\n",
       "    <tr>\n",
       "      <th>17</th>\n",
       "      <td>Louder with Crowder</td>\n",
       "    </tr>\n",
       "    <tr>\n",
       "      <th>18</th>\n",
       "      <td>Louder with Crowder</td>\n",
       "    </tr>\n",
       "    <tr>\n",
       "      <th>19</th>\n",
       "      <td>Disney Junior Live On Tour</td>\n",
       "    </tr>\n",
       "  </tbody>\n",
       "</table>\n",
       "</div>"
      ],
      "text/plain": [
       "                              headliner\n",
       "0                               Mt. Joy\n",
       "1               Ryman Sidewalk Sessions\n",
       "2                        Marcus Mumford\n",
       "3                              Puscifer\n",
       "4   Gipsy Kings featuring Nicolas Reyes\n",
       "5               Ryman Sidewalk Sessions\n",
       "6                         Cole Swindell\n",
       "7               Ryman Sidewalk Sessions\n",
       "8                         Cole Swindell\n",
       "9                       The Lone Bellow\n",
       "10                       We The Kingdom\n",
       "11                      The Revivalists\n",
       "12                      The Revivalists\n",
       "13                              Dayglow\n",
       "14           Bono: Stories of Surrender\n",
       "15                        Chris Renzema\n",
       "16                         Craig Morgan\n",
       "17                  Louder with Crowder\n",
       "18                  Louder with Crowder\n",
       "19           Disney Junior Live On Tour"
      ]
     },
     "execution_count": 57,
     "metadata": {},
     "output_type": "execute_result"
    }
   ],
   "source": [
    "event_headline = pd.DataFrame({'headliner': headline})\n",
    "event_headline"
   ]
  },
  {
   "cell_type": "code",
   "execution_count": 65,
   "id": "b03e2145",
   "metadata": {},
   "outputs": [
    {
     "data": {
      "text/html": [
       "<div>\n",
       "<style scoped>\n",
       "    .dataframe tbody tr th:only-of-type {\n",
       "        vertical-align: middle;\n",
       "    }\n",
       "\n",
       "    .dataframe tbody tr th {\n",
       "        vertical-align: top;\n",
       "    }\n",
       "\n",
       "    .dataframe thead th {\n",
       "        text-align: right;\n",
       "    }\n",
       "</style>\n",
       "<table border=\"1\" class=\"dataframe\">\n",
       "  <thead>\n",
       "    <tr style=\"text-align: right;\">\n",
       "      <th></th>\n",
       "      <th>headliner</th>\n",
       "      <th>event time</th>\n",
       "    </tr>\n",
       "  </thead>\n",
       "  <tbody>\n",
       "    <tr>\n",
       "      <th>0</th>\n",
       "      <td>Mt. Joy</td>\n",
       "      <td>Saturday, October 29, 2022 at 8:00 PM CDT</td>\n",
       "    </tr>\n",
       "    <tr>\n",
       "      <th>1</th>\n",
       "      <td>Ryman Sidewalk Sessions</td>\n",
       "      <td>Sunday, October 30, 2022 at 6:00 PM CDT</td>\n",
       "    </tr>\n",
       "    <tr>\n",
       "      <th>2</th>\n",
       "      <td>Marcus Mumford</td>\n",
       "      <td>Sunday, October 30, 2022 at 8:00 PM CDT</td>\n",
       "    </tr>\n",
       "    <tr>\n",
       "      <th>3</th>\n",
       "      <td>Puscifer</td>\n",
       "      <td>Monday, October 31, 2022 at 7:30 PM CDT</td>\n",
       "    </tr>\n",
       "    <tr>\n",
       "      <th>4</th>\n",
       "      <td>Gipsy Kings featuring Nicolas Reyes</td>\n",
       "      <td>Tuesday, November 1, 2022 at 7:30 PM CDT</td>\n",
       "    </tr>\n",
       "    <tr>\n",
       "      <th>5</th>\n",
       "      <td>Ryman Sidewalk Sessions</td>\n",
       "      <td>Wednesday, November 2, 2022 at 5:30 PM CDT</td>\n",
       "    </tr>\n",
       "    <tr>\n",
       "      <th>6</th>\n",
       "      <td>Cole Swindell</td>\n",
       "      <td>Wednesday, November 2, 2022 at 7:30 PM CDT</td>\n",
       "    </tr>\n",
       "    <tr>\n",
       "      <th>7</th>\n",
       "      <td>Ryman Sidewalk Sessions</td>\n",
       "      <td>Thursday, November 3, 2022 at 5:30 PM CDT</td>\n",
       "    </tr>\n",
       "    <tr>\n",
       "      <th>8</th>\n",
       "      <td>Cole Swindell</td>\n",
       "      <td>Thursday, November 3, 2022 at 7:30 PM CDT</td>\n",
       "    </tr>\n",
       "    <tr>\n",
       "      <th>9</th>\n",
       "      <td>The Lone Bellow</td>\n",
       "      <td>Friday, November 4, 2022 at 8:00 PM CDT</td>\n",
       "    </tr>\n",
       "    <tr>\n",
       "      <th>10</th>\n",
       "      <td>We The Kingdom</td>\n",
       "      <td>Saturday, November 5, 2022 at 7:00 PM CDT</td>\n",
       "    </tr>\n",
       "    <tr>\n",
       "      <th>11</th>\n",
       "      <td>The Revivalists</td>\n",
       "      <td>Sunday, November 6, 2022 at 7:30 PM CST</td>\n",
       "    </tr>\n",
       "    <tr>\n",
       "      <th>12</th>\n",
       "      <td>The Revivalists</td>\n",
       "      <td>Monday, November 7, 2022 at 7:30 PM CST</td>\n",
       "    </tr>\n",
       "    <tr>\n",
       "      <th>13</th>\n",
       "      <td>Dayglow</td>\n",
       "      <td>Tuesday, November 8, 2022 at 7:30 PM CST</td>\n",
       "    </tr>\n",
       "    <tr>\n",
       "      <th>14</th>\n",
       "      <td>Bono: Stories of Surrender</td>\n",
       "      <td>Wednesday, November 9, 2022 at 8:00 PM CST</td>\n",
       "    </tr>\n",
       "    <tr>\n",
       "      <th>15</th>\n",
       "      <td>Chris Renzema</td>\n",
       "      <td>Thursday, November 10, 2022 at 7:30 PM CST</td>\n",
       "    </tr>\n",
       "    <tr>\n",
       "      <th>16</th>\n",
       "      <td>Craig Morgan</td>\n",
       "      <td>Friday, November 11, 2022 at 8:00 PM CST</td>\n",
       "    </tr>\n",
       "    <tr>\n",
       "      <th>17</th>\n",
       "      <td>Louder with Crowder</td>\n",
       "      <td>Saturday, November 12, 2022 at 7:00 PM CST</td>\n",
       "    </tr>\n",
       "    <tr>\n",
       "      <th>18</th>\n",
       "      <td>Louder with Crowder</td>\n",
       "      <td>Saturday, November 12, 2022 at 9:30 PM CST</td>\n",
       "    </tr>\n",
       "    <tr>\n",
       "      <th>19</th>\n",
       "      <td>Disney Junior Live On Tour</td>\n",
       "      <td>Sunday, November 13, 2022 at 4:00 PM CST</td>\n",
       "    </tr>\n",
       "  </tbody>\n",
       "</table>\n",
       "</div>"
      ],
      "text/plain": [
       "                              headliner  \\\n",
       "0                               Mt. Joy   \n",
       "1               Ryman Sidewalk Sessions   \n",
       "2                        Marcus Mumford   \n",
       "3                              Puscifer   \n",
       "4   Gipsy Kings featuring Nicolas Reyes   \n",
       "5               Ryman Sidewalk Sessions   \n",
       "6                         Cole Swindell   \n",
       "7               Ryman Sidewalk Sessions   \n",
       "8                         Cole Swindell   \n",
       "9                       The Lone Bellow   \n",
       "10                       We The Kingdom   \n",
       "11                      The Revivalists   \n",
       "12                      The Revivalists   \n",
       "13                              Dayglow   \n",
       "14           Bono: Stories of Surrender   \n",
       "15                        Chris Renzema   \n",
       "16                         Craig Morgan   \n",
       "17                  Louder with Crowder   \n",
       "18                  Louder with Crowder   \n",
       "19           Disney Junior Live On Tour   \n",
       "\n",
       "                                    event time  \n",
       "0    Saturday, October 29, 2022 at 8:00 PM CDT  \n",
       "1      Sunday, October 30, 2022 at 6:00 PM CDT  \n",
       "2      Sunday, October 30, 2022 at 8:00 PM CDT  \n",
       "3      Monday, October 31, 2022 at 7:30 PM CDT  \n",
       "4     Tuesday, November 1, 2022 at 7:30 PM CDT  \n",
       "5   Wednesday, November 2, 2022 at 5:30 PM CDT  \n",
       "6   Wednesday, November 2, 2022 at 7:30 PM CDT  \n",
       "7    Thursday, November 3, 2022 at 5:30 PM CDT  \n",
       "8    Thursday, November 3, 2022 at 7:30 PM CDT  \n",
       "9      Friday, November 4, 2022 at 8:00 PM CDT  \n",
       "10   Saturday, November 5, 2022 at 7:00 PM CDT  \n",
       "11     Sunday, November 6, 2022 at 7:30 PM CST  \n",
       "12     Monday, November 7, 2022 at 7:30 PM CST  \n",
       "13    Tuesday, November 8, 2022 at 7:30 PM CST  \n",
       "14  Wednesday, November 9, 2022 at 8:00 PM CST  \n",
       "15  Thursday, November 10, 2022 at 7:30 PM CST  \n",
       "16    Friday, November 11, 2022 at 8:00 PM CST  \n",
       "17  Saturday, November 12, 2022 at 7:00 PM CST  \n",
       "18  Saturday, November 12, 2022 at 9:30 PM CST  \n",
       "19    Sunday, November 13, 2022 at 4:00 PM CST  "
      ]
     },
     "execution_count": 65,
     "metadata": {},
     "output_type": "execute_result"
    }
   ],
   "source": [
    "combined = pd.concat([event_headline,event_times], axis = 1)\n",
    "combined"
   ]
  },
  {
   "cell_type": "code",
   "execution_count": null,
   "id": "7f387202",
   "metadata": {},
   "outputs": [],
   "source": []
  },
  {
   "cell_type": "code",
   "execution_count": null,
   "id": "5232db1d",
   "metadata": {},
   "outputs": [],
   "source": []
  }
 ],
 "metadata": {
  "kernelspec": {
   "display_name": "Python 3 (ipykernel)",
   "language": "python",
   "name": "python3"
  },
  "language_info": {
   "codemirror_mode": {
    "name": "ipython",
    "version": 3
   },
   "file_extension": ".py",
   "mimetype": "text/x-python",
   "name": "python",
   "nbconvert_exporter": "python",
   "pygments_lexer": "ipython3",
   "version": "3.9.12"
  }
 },
 "nbformat": 4,
 "nbformat_minor": 5
}
